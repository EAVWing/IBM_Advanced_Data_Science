{
    "nbformat_minor": 1, 
    "cells": [
        {
            "source": "# ETL\n\ndata from:  https://csegroups.case.edu/bearingdatacenter/pages/welcome-case-western-reserve-university-bearing-data-center-website", 
            "cell_type": "markdown", 
            "metadata": {}
        }, 
        {
            "execution_count": 1, 
            "cell_type": "code", 
            "metadata": {}, 
            "outputs": [
                {
                    "output_type": "stream", 
                    "name": "stdout", 
                    "text": "Waiting for a Spark session to start...\nSpark Initialization Done! ApplicationId = app-20190612153550-0001\nKERNEL_ID = a1cf7a55-2ecc-48e4-92a3-818d2eb36219\n"
                }
            ], 
            "source": "import numpy as np\nimport pandas as pd\nimport scipy.io as sio\nimport os"
        }, 
        {
            "execution_count": 2, 
            "cell_type": "code", 
            "metadata": {}, 
            "outputs": [
                {
                    "output_type": "stream", 
                    "name": "stdout", 
                    "text": "--2019-06-12 15:35:53--  http://csegroups.case.edu/sites/default/files/bearingdatacenter/files/Datafiles/97.mat\nResolving csegroups.case.edu (csegroups.case.edu)... 129.22.25.84\nConnecting to csegroups.case.edu (csegroups.case.edu)|129.22.25.84|:80... connected.\nHTTP request sent, awaiting response... 200 OK\nLength: 3903344 (3.7M)\nSaving to: '97.mat'\n\n97.mat              100%[===================>]   3.72M  3.23MB/s    in 1.2s    \n\n2019-06-12 15:35:54 (3.23 MB/s) - '97.mat' saved [3903344/3903344]\n\n--2019-06-12 15:35:55--  http://csegroups.case.edu/sites/default/files/bearingdatacenter/files/Datafiles/98.mat\nResolving csegroups.case.edu (csegroups.case.edu)... 129.22.25.84\nConnecting to csegroups.case.edu (csegroups.case.edu)|129.22.25.84|:80... connected.\nHTTP request sent, awaiting response... 200 OK\nLength: 7742720 (7.4M)\nSaving to: '98.mat'\n\n98.mat              100%[===================>]   7.38M  6.79MB/s    in 1.1s    \n\n2019-06-12 15:35:56 (6.79 MB/s) - '98.mat' saved [7742720/7742720]\n\n--2019-06-12 15:35:57--  http://csegroups.case.edu/sites/default/files/bearingdatacenter/files/Datafiles/99.mat\nResolving csegroups.case.edu (csegroups.case.edu)... 129.22.25.84\nConnecting to csegroups.case.edu (csegroups.case.edu)|129.22.25.84|:80... connected.\nHTTP request sent, awaiting response... 200 OK\nLength: 15503928 (15M)\nSaving to: '99.mat'\n\n99.mat              100%[===================>]  14.79M  6.48MB/s    in 2.3s    \n\n2019-06-12 15:35:59 (6.48 MB/s) - '99.mat' saved [15503928/15503928]\n\n--2019-06-12 15:35:59--  http://csegroups.case.edu/sites/default/files/bearingdatacenter/files/Datafiles/100.mat\nResolving csegroups.case.edu (csegroups.case.edu)... 129.22.25.84\nConnecting to csegroups.case.edu (csegroups.case.edu)|129.22.25.84|:80... connected.\nHTTP request sent, awaiting response... 200 OK\nLength: 7770624 (7.4M)\nSaving to: '100.mat'\n\n100.mat             100%[===================>]   7.41M  8.46MB/s    in 0.9s    \n\n2019-06-12 15:36:00 (8.46 MB/s) - '100.mat' saved [7770624/7770624]\n\n"
                }
            ], 
            "source": "!wget http://csegroups.case.edu/sites/default/files/bearingdatacenter/files/Datafiles/97.mat\n!wget http://csegroups.case.edu/sites/default/files/bearingdatacenter/files/Datafiles/98.mat\n!wget http://csegroups.case.edu/sites/default/files/bearingdatacenter/files/Datafiles/99.mat\n!wget http://csegroups.case.edu/sites/default/files/bearingdatacenter/files/Datafiles/100.mat"
        }, 
        {
            "execution_count": 3, 
            "cell_type": "code", 
            "metadata": {}, 
            "outputs": [
                {
                    "output_type": "stream", 
                    "name": "stdout", 
                    "text": "mkdir: cannot create directory 'cwr_healthy': File exists\r\n"
                }
            ], 
            "source": "!mkdir  cwr_healthy"
        }, 
        {
            "execution_count": 4, 
            "cell_type": "code", 
            "metadata": {}, 
            "outputs": [], 
            "source": "!mv *.mat cwr_healthy/"
        }, 
        {
            "execution_count": 5, 
            "cell_type": "code", 
            "metadata": {}, 
            "outputs": [
                {
                    "output_type": "stream", 
                    "name": "stdout", 
                    "text": "100.mat  97.mat  98.mat  99.mat\r\n"
                }
            ], 
            "source": "!ls cwr_healthy/"
        }, 
        {
            "execution_count": 6, 
            "cell_type": "code", 
            "metadata": {}, 
            "outputs": [], 
            "source": "#check one file\nmlf = sio.loadmat('./cwr_healthy/100.mat')"
        }, 
        {
            "execution_count": 7, 
            "cell_type": "code", 
            "metadata": {}, 
            "outputs": [
                {
                    "execution_count": 7, 
                    "metadata": {}, 
                    "data": {
                        "text/plain": "{'__header__': b'MATLAB 5.0 MAT-file, Platform: PCWIN, Created on: Fri Jan 28 11:25:48 2000',\n '__version__': '1.0',\n '__globals__': [],\n 'X100_DE_time': array([[ 0.01460308],\n        [ 0.05444862],\n        [ 0.10764554],\n        ...,\n        [-0.02357354],\n        [ 0.00521538],\n        [ 0.04777292]]),\n 'X100_FE_time': array([[ 0.19292182],\n        [ 0.16436364],\n        [ 0.09081091],\n        ...,\n        [ 0.10930182],\n        [ 0.05218545],\n        [-0.00452   ]]),\n 'X100RPM': array([[1725]], dtype=uint16)}"
                    }, 
                    "output_type": "execute_result"
                }
            ], 
            "source": "mlf"
        }, 
        {
            "execution_count": 8, 
            "cell_type": "code", 
            "metadata": {}, 
            "outputs": [], 
            "source": "def read_folder(folder):\n    data = 'dummy'\n    skip = False\n    for file in os.listdir(folder):\n        file_id = file[:-4]\n        mat_file_dict = sio.loadmat(folder+file) #function to read matlab files\n        del data\n        for key, value in mat_file_dict.items():\n            if 'DE_time' in key or 'FE_time' in key:\n                a = np.array(mat_file_dict[key])\n                try:\n                    data\n                except NameError:\n                    data = a\n                else:\n                    if (data.shape[0] != a.shape[0]):\n                        print('skipping ' + file_id)\n                        skip = True\n                        continue\n                    data = np.hstack((data,a))\n        if skip:\n            skip=False\n            continue\n        id = np.repeat(file_id,data.shape[0])\n        id.shape = (id.shape[0],1)\n        data = np.hstack((id,data))\n        if data.shape[1] == 2:\n            zeros = np.repeat(float(0),data.shape[0])\n            zeros.shape =(data.shape[0],1)\n            data = np.hstack((data,zeros))\n        try:\n            result\n        except NameError:\n            result = data\n        else:\n            result = np.vstack((result,data))\n    return result"
        }, 
        {
            "execution_count": 9, 
            "cell_type": "code", 
            "metadata": {}, 
            "outputs": [
                {
                    "output_type": "stream", 
                    "name": "stdout", 
                    "text": "skipping 99\nskipping 99\n"
                }
            ], 
            "source": "result_healthy = read_folder('./cwr_healthy/')"
        }, 
        {
            "execution_count": 10, 
            "cell_type": "code", 
            "metadata": {}, 
            "outputs": [], 
            "source": "pdf = pd.DataFrame(result_healthy)"
        }, 
        {
            "execution_count": 11, 
            "cell_type": "code", 
            "metadata": {}, 
            "outputs": [], 
            "source": "pdf.to_csv('result_healthy_pandas.csv', header=False, index=True)"
        }, 
        {
            "execution_count": 12, 
            "cell_type": "code", 
            "metadata": {}, 
            "outputs": [
                {
                    "output_type": "stream", 
                    "name": "stdout", 
                    "text": "0,100,0.014603076923076923,0.19292181818181817\r\n1,100,0.05444861538461539,0.16436363636363635\r\n2,100,0.10764553846153846,0.09081090909090908\r\n3,100,0.13372246153846154,0.08649636363636364\r\n4,100,0.11265230769230769,0.09923454545454545\r\n5,100,0.08240307692307691,0.09307090909090908\r\n6,100,0.08699261538461538,0.08197636363636364\r\n7,100,0.11056615384615384,0.03307818181818182\r\n8,100,0.12767261538461538,0.01171090909090909\r\n9,100,0.11348676923076922,0.02218909090909091\r\n"
                }
            ], 
            "source": "!head result_healthy_pandas.csv"
        }, 
        {
            "execution_count": 13, 
            "cell_type": "code", 
            "metadata": {}, 
            "outputs": [], 
            "source": "#!for url in `curl -s csegroups.case.edu/bearingdatacenter/pages/12k-drive-end-bearing-fault-data |grep mat |grep http |awk -F'href=\"' '{print $2}' |awk -F'\">' '{print $1}'`; do wget $url; done\n#!for url in `curl -s csegroups.case.edu/bearingdatacenter/pages/48k-drive-end-bearing-fault-data |grep mat |grep http |awk -F'href=\"' '{print $2}' |awk -F'\">' '{print $1}'`; do wget $url; done\n#!for url in `curl -s csegroups.case.edu/bearingdatacenter/pages/12k-fan-end-bearing-fault-data |grep mat |grep http |awk -F'href=\"' '{print $2}' |awk -F'\">' '{print $1}'`; do wget $url; done\n#!mkdir cwr_faulty\n#!mv *.mat cwr_faulty/"
        }, 
        {
            "execution_count": 14, 
            "cell_type": "code", 
            "metadata": {}, 
            "outputs": [
                {
                    "output_type": "stream", 
                    "name": "stdout", 
                    "text": "--2019-06-12 15:36:12--  http://csegroups.case.edu/sites/default/files/bearingdatacenter/files/Datafiles/105.mat\nResolving csegroups.case.edu (csegroups.case.edu)... 129.22.25.84\nConnecting to csegroups.case.edu (csegroups.case.edu)|129.22.25.84|:80... connected.\nHTTP request sent, awaiting response... 200 OK\nLength: 2910768 (2.8M)\nSaving to: '105.mat'\n\n105.mat             100%[===================>]   2.78M  6.57MB/s    in 0.4s    \n\n2019-06-12 15:36:13 (6.57 MB/s) - '105.mat' saved [2910768/2910768]\n\n--2019-06-12 15:36:13--  http://csegroups.case.edu/sites/default/files/bearingdatacenter/files/Datafiles/106.mat\nResolving csegroups.case.edu (csegroups.case.edu)... 129.22.25.84\nConnecting to csegroups.case.edu (csegroups.case.edu)|129.22.25.84|:80... connected.\nHTTP request sent, awaiting response... 200 OK\nLength: 2928192 (2.8M)\nSaving to: '106.mat'\n\n106.mat             100%[===================>]   2.79M  6.57MB/s    in 0.4s    \n\n2019-06-12 15:36:14 (6.57 MB/s) - '106.mat' saved [2928192/2928192]\n\n--2019-06-12 15:36:14--  http://csegroups.case.edu/sites/default/files/bearingdatacenter/files/Datafiles/107.mat\nResolving csegroups.case.edu (csegroups.case.edu)... 129.22.25.84\nConnecting to csegroups.case.edu (csegroups.case.edu)|129.22.25.84|:80... connected.\nHTTP request sent, awaiting response... 200 OK\nLength: 2931672 (2.8M)\nSaving to: '107.mat'\n\n107.mat             100%[===================>]   2.79M  6.99MB/s    in 0.4s    \n\n2019-06-12 15:36:15 (6.99 MB/s) - '107.mat' saved [2931672/2931672]\n\n--2019-06-12 15:36:15--  http://csegroups.case.edu/sites/default/files/bearingdatacenter/files/Datafiles/108.mat\nResolving csegroups.case.edu (csegroups.case.edu)... 129.22.25.84\nConnecting to csegroups.case.edu (csegroups.case.edu)|129.22.25.84|:80... connected.\nHTTP request sent, awaiting response... 200 OK\nLength: 2950416 (2.8M)\nSaving to: '108.mat'\n\n108.mat             100%[===================>]   2.81M  5.03MB/s    in 0.6s    \n\n2019-06-12 15:36:16 (5.03 MB/s) - '108.mat' saved [2950416/2950416]\n\n"
                }
            ], 
            "source": "!wget http://csegroups.case.edu/sites/default/files/bearingdatacenter/files/Datafiles/105.mat\n!wget http://csegroups.case.edu/sites/default/files/bearingdatacenter/files/Datafiles/106.mat\n!wget http://csegroups.case.edu/sites/default/files/bearingdatacenter/files/Datafiles/107.mat\n!wget http://csegroups.case.edu/sites/default/files/bearingdatacenter/files/Datafiles/108.mat"
        }, 
        {
            "execution_count": 15, 
            "cell_type": "code", 
            "metadata": {}, 
            "outputs": [
                {
                    "output_type": "stream", 
                    "name": "stdout", 
                    "text": "mkdir: cannot create directory 'cwr_faulty': File exists\r\n"
                }
            ], 
            "source": "!mkdir cwr_faulty\n!mv *.mat cwr_faulty/"
        }, 
        {
            "execution_count": 16, 
            "cell_type": "code", 
            "metadata": {}, 
            "outputs": [
                {
                    "output_type": "stream", 
                    "name": "stdout", 
                    "text": "105.mat  106.mat  107.mat  108.mat\r\n"
                }
            ], 
            "source": "!ls cwr_faulty/"
        }, 
        {
            "execution_count": 17, 
            "cell_type": "code", 
            "metadata": {}, 
            "outputs": [], 
            "source": "result_faulty = read_folder('./cwr_faulty/')"
        }, 
        {
            "execution_count": 18, 
            "cell_type": "code", 
            "metadata": {}, 
            "outputs": [], 
            "source": "pdf = pd.DataFrame(result_faulty)"
        }, 
        {
            "execution_count": 19, 
            "cell_type": "code", 
            "metadata": {}, 
            "outputs": [], 
            "source": "pdf.to_csv('result_faulty_pandas.csv', header=False, index=True)"
        }, 
        {
            "execution_count": 20, 
            "cell_type": "code", 
            "metadata": {}, 
            "outputs": [], 
            "source": "df_healthy = spark.read.csv('result_healthy_pandas.csv')\ndf_healthy.createOrReplaceTempView('df_healthy')"
        }, 
        {
            "execution_count": 21, 
            "cell_type": "code", 
            "metadata": {}, 
            "outputs": [], 
            "source": "df_faulty = spark.read.csv('result_faulty_pandas.csv')\ndf_faulty.createOrReplaceTempView('df_faulty')"
        }, 
        {
            "execution_count": 22, 
            "cell_type": "code", 
            "metadata": {}, 
            "outputs": [
                {
                    "output_type": "stream", 
                    "name": "stdout", 
                    "text": "+---+------+\n|_c1|    cn|\n+---+------+\n| 97|243938|\n| 98|483903|\n|100|485643|\n+---+------+\n\n"
                }
            ], 
            "source": "spark.sql('select _c1, count(_c1) as cn from df_healthy group by _c1 order by cn asc').show()"
        }, 
        {
            "execution_count": 23, 
            "cell_type": "code", 
            "metadata": {}, 
            "outputs": [
                {
                    "output_type": "stream", 
                    "name": "stdout", 
                    "text": "+---+------+\n|_c1|    cn|\n+---+------+\n|105|121265|\n|106|121991|\n|107|122136|\n|108|122917|\n+---+------+\n\n"
                }
            ], 
            "source": "spark.sql('select _c1, count(_c1) as cn from df_faulty group by _c1 order by cn asc').show()"
        }, 
        {
            "execution_count": 24, 
            "cell_type": "code", 
            "metadata": {}, 
            "outputs": [], 
            "source": "# The code was removed by Watson Studio for sharing."
        }, 
        {
            "execution_count": 25, 
            "cell_type": "code", 
            "metadata": {}, 
            "outputs": [
                {
                    "ename": "AnalysisException", 
                    "evalue": "'path cos://advancedatasci-donotdelete-pr-bvizfkp0o2ej2y.os_45b77029797b4322b732418ac53a105b_configs/cwr_healthy.parquet already exists.;'", 
                    "traceback": [
                        "\u001b[0;31m---------------------------------------------------------------------------\u001b[0m", 
                        "\u001b[0;31mPy4JJavaError\u001b[0m                             Traceback (most recent call last)", 
                        "\u001b[0;32m/opt/ibm/spark/python/pyspark/sql/utils.py\u001b[0m in \u001b[0;36mdeco\u001b[0;34m(*a, **kw)\u001b[0m\n\u001b[1;32m     62\u001b[0m         \u001b[0;32mtry\u001b[0m\u001b[0;34m:\u001b[0m\u001b[0;34m\u001b[0m\u001b[0;34m\u001b[0m\u001b[0m\n\u001b[0;32m---> 63\u001b[0;31m             \u001b[0;32mreturn\u001b[0m \u001b[0mf\u001b[0m\u001b[0;34m(\u001b[0m\u001b[0;34m*\u001b[0m\u001b[0ma\u001b[0m\u001b[0;34m,\u001b[0m \u001b[0;34m**\u001b[0m\u001b[0mkw\u001b[0m\u001b[0;34m)\u001b[0m\u001b[0;34m\u001b[0m\u001b[0;34m\u001b[0m\u001b[0m\n\u001b[0m\u001b[1;32m     64\u001b[0m         \u001b[0;32mexcept\u001b[0m \u001b[0mpy4j\u001b[0m\u001b[0;34m.\u001b[0m\u001b[0mprotocol\u001b[0m\u001b[0;34m.\u001b[0m\u001b[0mPy4JJavaError\u001b[0m \u001b[0;32mas\u001b[0m \u001b[0me\u001b[0m\u001b[0;34m:\u001b[0m\u001b[0;34m\u001b[0m\u001b[0;34m\u001b[0m\u001b[0m\n", 
                        "\u001b[0;32m/opt/ibm/spark/python/lib/py4j-0.10.7-src.zip/py4j/protocol.py\u001b[0m in \u001b[0;36mget_return_value\u001b[0;34m(answer, gateway_client, target_id, name)\u001b[0m\n\u001b[1;32m    327\u001b[0m                     \u001b[0;34m\"An error occurred while calling {0}{1}{2}.\\n\"\u001b[0m\u001b[0;34m.\u001b[0m\u001b[0;34m\u001b[0m\u001b[0;34m\u001b[0m\u001b[0m\n\u001b[0;32m--> 328\u001b[0;31m                     format(target_id, \".\", name), value)\n\u001b[0m\u001b[1;32m    329\u001b[0m             \u001b[0;32melse\u001b[0m\u001b[0;34m:\u001b[0m\u001b[0;34m\u001b[0m\u001b[0;34m\u001b[0m\u001b[0m\n", 
                        "\u001b[0;31mPy4JJavaError\u001b[0m: An error occurred while calling o114.parquet.\n: org.apache.spark.sql.AnalysisException: path cos://advancedatasci-donotdelete-pr-bvizfkp0o2ej2y.os_45b77029797b4322b732418ac53a105b_configs/cwr_healthy.parquet already exists.;\n\tat org.apache.spark.sql.execution.datasources.InsertIntoHadoopFsRelationCommand.run(InsertIntoHadoopFsRelationCommand.scala:109)\n\tat org.apache.spark.sql.execution.command.DataWritingCommandExec.sideEffectResult$lzycompute(commands.scala:104)\n\tat org.apache.spark.sql.execution.command.DataWritingCommandExec.sideEffectResult(commands.scala:102)\n\tat org.apache.spark.sql.execution.command.DataWritingCommandExec.doExecute(commands.scala:122)\n\tat org.apache.spark.sql.execution.SparkPlan$$anonfun$execute$1.apply(SparkPlan.scala:131)\n\tat org.apache.spark.sql.execution.SparkPlan$$anonfun$execute$1.apply(SparkPlan.scala:127)\n\tat org.apache.spark.sql.execution.SparkPlan$$anonfun$executeQuery$1.apply(SparkPlan.scala:155)\n\tat org.apache.spark.rdd.RDDOperationScope$.withScope(RDDOperationScope.scala:151)\n\tat org.apache.spark.sql.execution.SparkPlan.executeQuery(SparkPlan.scala:152)\n\tat org.apache.spark.sql.execution.SparkPlan.execute(SparkPlan.scala:127)\n\tat org.apache.spark.sql.execution.QueryExecution.toRdd$lzycompute(QueryExecution.scala:80)\n\tat org.apache.spark.sql.execution.QueryExecution.toRdd(QueryExecution.scala:80)\n\tat org.apache.spark.sql.DataFrameWriter$$anonfun$runCommand$1.apply(DataFrameWriter.scala:656)\n\tat org.apache.spark.sql.DataFrameWriter$$anonfun$runCommand$1.apply(DataFrameWriter.scala:656)\n\tat org.apache.spark.sql.execution.SQLExecution$.withNewExecutionId(SQLExecution.scala:77)\n\tat org.apache.spark.sql.DataFrameWriter.runCommand(DataFrameWriter.scala:656)\n\tat org.apache.spark.sql.DataFrameWriter.saveToV1Source(DataFrameWriter.scala:273)\n\tat org.apache.spark.sql.DataFrameWriter.save(DataFrameWriter.scala:267)\n\tat org.apache.spark.sql.DataFrameWriter.save(DataFrameWriter.scala:225)\n\tat org.apache.spark.sql.DataFrameWriter.parquet(DataFrameWriter.scala:549)\n\tat sun.reflect.NativeMethodAccessorImpl.invoke0(Native Method)\n\tat sun.reflect.NativeMethodAccessorImpl.invoke(NativeMethodAccessorImpl.java:90)\n\tat sun.reflect.DelegatingMethodAccessorImpl.invoke(DelegatingMethodAccessorImpl.java:55)\n\tat java.lang.reflect.Method.invoke(Method.java:508)\n\tat py4j.reflection.MethodInvoker.invoke(MethodInvoker.java:244)\n\tat py4j.reflection.ReflectionEngine.invoke(ReflectionEngine.java:357)\n\tat py4j.Gateway.invoke(Gateway.java:282)\n\tat py4j.commands.AbstractCommand.invokeMethod(AbstractCommand.java:132)\n\tat py4j.commands.CallCommand.execute(CallCommand.java:79)\n\tat py4j.GatewayConnection.run(GatewayConnection.java:238)\n\tat java.lang.Thread.run(Thread.java:811)\n", 
                        "\nDuring handling of the above exception, another exception occurred:\n", 
                        "\u001b[0;31mAnalysisException\u001b[0m                         Traceback (most recent call last)", 
                        "\u001b[0;32m<ipython-input-25-9e6fdd7294c2>\u001b[0m in \u001b[0;36m<module>\u001b[0;34m()\u001b[0m\n\u001b[0;32m----> 1\u001b[0;31m \u001b[0mdf_healthy\u001b[0m\u001b[0;34m.\u001b[0m\u001b[0mwrite\u001b[0m\u001b[0;34m.\u001b[0m\u001b[0mparquet\u001b[0m\u001b[0;34m(\u001b[0m\u001b[0mcos\u001b[0m\u001b[0;34m.\u001b[0m\u001b[0murl\u001b[0m\u001b[0;34m(\u001b[0m\u001b[0;34m'cwr_healthy.parquet'\u001b[0m\u001b[0;34m,\u001b[0m \u001b[0;34m'advancedatasci-donotdelete-pr-bvizfkp0o2ej2y'\u001b[0m\u001b[0;34m)\u001b[0m\u001b[0;34m)\u001b[0m\u001b[0;34m\u001b[0m\u001b[0;34m\u001b[0m\u001b[0m\n\u001b[0m", 
                        "\u001b[0;32m/opt/ibm/spark/python/pyspark/sql/readwriter.py\u001b[0m in \u001b[0;36mparquet\u001b[0;34m(self, path, mode, partitionBy, compression)\u001b[0m\n\u001b[1;32m    802\u001b[0m             \u001b[0mself\u001b[0m\u001b[0;34m.\u001b[0m\u001b[0mpartitionBy\u001b[0m\u001b[0;34m(\u001b[0m\u001b[0mpartitionBy\u001b[0m\u001b[0;34m)\u001b[0m\u001b[0;34m\u001b[0m\u001b[0;34m\u001b[0m\u001b[0m\n\u001b[1;32m    803\u001b[0m         \u001b[0mself\u001b[0m\u001b[0;34m.\u001b[0m\u001b[0m_set_opts\u001b[0m\u001b[0;34m(\u001b[0m\u001b[0mcompression\u001b[0m\u001b[0;34m=\u001b[0m\u001b[0mcompression\u001b[0m\u001b[0;34m)\u001b[0m\u001b[0;34m\u001b[0m\u001b[0;34m\u001b[0m\u001b[0m\n\u001b[0;32m--> 804\u001b[0;31m         \u001b[0mself\u001b[0m\u001b[0;34m.\u001b[0m\u001b[0m_jwrite\u001b[0m\u001b[0;34m.\u001b[0m\u001b[0mparquet\u001b[0m\u001b[0;34m(\u001b[0m\u001b[0mpath\u001b[0m\u001b[0;34m)\u001b[0m\u001b[0;34m\u001b[0m\u001b[0;34m\u001b[0m\u001b[0m\n\u001b[0m\u001b[1;32m    805\u001b[0m \u001b[0;34m\u001b[0m\u001b[0m\n\u001b[1;32m    806\u001b[0m     \u001b[0;34m@\u001b[0m\u001b[0msince\u001b[0m\u001b[0;34m(\u001b[0m\u001b[0;36m1.6\u001b[0m\u001b[0;34m)\u001b[0m\u001b[0;34m\u001b[0m\u001b[0;34m\u001b[0m\u001b[0m\n", 
                        "\u001b[0;32m/opt/ibm/spark/python/lib/py4j-0.10.7-src.zip/py4j/java_gateway.py\u001b[0m in \u001b[0;36m__call__\u001b[0;34m(self, *args)\u001b[0m\n\u001b[1;32m   1255\u001b[0m         \u001b[0manswer\u001b[0m \u001b[0;34m=\u001b[0m \u001b[0mself\u001b[0m\u001b[0;34m.\u001b[0m\u001b[0mgateway_client\u001b[0m\u001b[0;34m.\u001b[0m\u001b[0msend_command\u001b[0m\u001b[0;34m(\u001b[0m\u001b[0mcommand\u001b[0m\u001b[0;34m)\u001b[0m\u001b[0;34m\u001b[0m\u001b[0;34m\u001b[0m\u001b[0m\n\u001b[1;32m   1256\u001b[0m         return_value = get_return_value(\n\u001b[0;32m-> 1257\u001b[0;31m             answer, self.gateway_client, self.target_id, self.name)\n\u001b[0m\u001b[1;32m   1258\u001b[0m \u001b[0;34m\u001b[0m\u001b[0m\n\u001b[1;32m   1259\u001b[0m         \u001b[0;32mfor\u001b[0m \u001b[0mtemp_arg\u001b[0m \u001b[0;32min\u001b[0m \u001b[0mtemp_args\u001b[0m\u001b[0;34m:\u001b[0m\u001b[0;34m\u001b[0m\u001b[0;34m\u001b[0m\u001b[0m\n", 
                        "\u001b[0;32m/opt/ibm/spark/python/pyspark/sql/utils.py\u001b[0m in \u001b[0;36mdeco\u001b[0;34m(*a, **kw)\u001b[0m\n\u001b[1;32m     67\u001b[0m                                              e.java_exception.getStackTrace()))\n\u001b[1;32m     68\u001b[0m             \u001b[0;32mif\u001b[0m \u001b[0ms\u001b[0m\u001b[0;34m.\u001b[0m\u001b[0mstartswith\u001b[0m\u001b[0;34m(\u001b[0m\u001b[0;34m'org.apache.spark.sql.AnalysisException: '\u001b[0m\u001b[0;34m)\u001b[0m\u001b[0;34m:\u001b[0m\u001b[0;34m\u001b[0m\u001b[0;34m\u001b[0m\u001b[0m\n\u001b[0;32m---> 69\u001b[0;31m                 \u001b[0;32mraise\u001b[0m \u001b[0mAnalysisException\u001b[0m\u001b[0;34m(\u001b[0m\u001b[0ms\u001b[0m\u001b[0;34m.\u001b[0m\u001b[0msplit\u001b[0m\u001b[0;34m(\u001b[0m\u001b[0;34m': '\u001b[0m\u001b[0;34m,\u001b[0m \u001b[0;36m1\u001b[0m\u001b[0;34m)\u001b[0m\u001b[0;34m[\u001b[0m\u001b[0;36m1\u001b[0m\u001b[0;34m]\u001b[0m\u001b[0;34m,\u001b[0m \u001b[0mstackTrace\u001b[0m\u001b[0;34m)\u001b[0m\u001b[0;34m\u001b[0m\u001b[0;34m\u001b[0m\u001b[0m\n\u001b[0m\u001b[1;32m     70\u001b[0m             \u001b[0;32mif\u001b[0m \u001b[0ms\u001b[0m\u001b[0;34m.\u001b[0m\u001b[0mstartswith\u001b[0m\u001b[0;34m(\u001b[0m\u001b[0;34m'org.apache.spark.sql.catalyst.analysis'\u001b[0m\u001b[0;34m)\u001b[0m\u001b[0;34m:\u001b[0m\u001b[0;34m\u001b[0m\u001b[0;34m\u001b[0m\u001b[0m\n\u001b[1;32m     71\u001b[0m                 \u001b[0;32mraise\u001b[0m \u001b[0mAnalysisException\u001b[0m\u001b[0;34m(\u001b[0m\u001b[0ms\u001b[0m\u001b[0;34m.\u001b[0m\u001b[0msplit\u001b[0m\u001b[0;34m(\u001b[0m\u001b[0;34m': '\u001b[0m\u001b[0;34m,\u001b[0m \u001b[0;36m1\u001b[0m\u001b[0;34m)\u001b[0m\u001b[0;34m[\u001b[0m\u001b[0;36m1\u001b[0m\u001b[0;34m]\u001b[0m\u001b[0;34m,\u001b[0m \u001b[0mstackTrace\u001b[0m\u001b[0;34m)\u001b[0m\u001b[0;34m\u001b[0m\u001b[0;34m\u001b[0m\u001b[0m\n", 
                        "\u001b[0;31mAnalysisException\u001b[0m: 'path cos://advancedatasci-donotdelete-pr-bvizfkp0o2ej2y.os_45b77029797b4322b732418ac53a105b_configs/cwr_healthy.parquet already exists.;'"
                    ], 
                    "output_type": "error"
                }
            ], 
            "source": "df_healthy.write.parquet(cos.url('cwr_healthy.parquet', 'advancedatasci-donotdelete-pr-bvizfkp0o2ej2y'))"
        }, 
        {
            "execution_count": null, 
            "cell_type": "code", 
            "metadata": {}, 
            "outputs": [], 
            "source": "df_faulty.write.parquet(cos.url('cwr_faulty.parquet', 'advancedatasci-donotdelete-pr-bvizfkp0o2ej2y'))"
        }, 
        {
            "source": "# Keras", 
            "cell_type": "markdown", 
            "metadata": {}
        }, 
        {
            "execution_count": 26, 
            "cell_type": "code", 
            "metadata": {}, 
            "outputs": [], 
            "source": "df_healthy = spark.read.parquet(cos.url('cwr_healthy.parquet', 'advancedatasci-donotdelete-pr-bvizfkp0o2ej2y'))\ndf_healthy.createOrReplaceTempView('df_healthy')"
        }, 
        {
            "execution_count": 27, 
            "cell_type": "code", 
            "metadata": {}, 
            "outputs": [], 
            "source": "df_faulty = spark.read.parquet(cos.url('cwr_faulty.parquet', 'advancedatasci-donotdelete-pr-bvizfkp0o2ej2y'))\ndf_faulty.createOrReplaceTempView('df_faulty')"
        }, 
        {
            "execution_count": 28, 
            "cell_type": "code", 
            "metadata": {}, 
            "outputs": [
                {
                    "output_type": "stream", 
                    "name": "stderr", 
                    "text": "Using TensorFlow backend.\n"
                }
            ], 
            "source": "import numpy as np\nfrom numpy import concatenate\nfrom matplotlib import pyplot\nfrom pandas import read_csv\nfrom pandas import DataFrame\nfrom pandas import concat\nimport sklearn\nfrom sklearn.preprocessing import MinMaxScaler\nfrom sklearn.preprocessing import MinMaxScaler\nfrom sklearn.preprocessing import LabelEncoder\nfrom sklearn.metrics import mean_squared_error\nfrom keras.models import Sequential\nfrom keras.layers import Dense\nfrom keras.layers import LSTM\nfrom keras.callbacks import Callback\nfrom keras.models import Sequential\nfrom keras.layers import LSTM, Dense, Activation\nimport matplotlib.pyplot as plt\nfrom mpl_toolkits.mplot3d import Axes3D\nimport time\n%matplotlib inline"
        }, 
        {
            "execution_count": 38, 
            "cell_type": "code", 
            "metadata": {}, 
            "outputs": [], 
            "source": "class LossHistory(Callback):\n    def on_train_begin(self, logs={}):\n        self.losses = []\n\n    def on_batch_end(self, batch, logs={}):\n        self.losses.append(logs.get('loss'))"
        }, 
        {
            "execution_count": 41, 
            "cell_type": "code", 
            "metadata": {}, 
            "outputs": [], 
            "source": "timesteps = 100\ndim = 2\nlossHistory = LossHistory()\n# design network\n\nmodel = Sequential()\nmodel.add(LSTM(50,input_shape=(timesteps,dim),return_sequences=True))\nmodel.add(Dense(2))\nmodel.compile(loss='mae', optimizer='adam')\n\ndef train(data):\n    model.fit(data, data, epochs=5, batch_size=72, validation_data=(data, data), verbose=1, shuffle=False,callbacks=[lossHistory])\n\ndef score(data):\n    yhat =  model.predict(data)\n    return yhat"
        }, 
        {
            "execution_count": 42, 
            "cell_type": "code", 
            "metadata": {}, 
            "outputs": [], 
            "source": "def create_trimmed_recording(df,file_id):\n    recording = np.array(df.orderBy(df['_c0']).where(df['_c1'] == file_id).select('_c2', '_c3').rdd.map(lambda row: np.array([row._c2, row._c3])).collect())\n    samples = len(recording)\n    trim = samples % 100\n    recording_trimmed = recording[:samples-trim]\n    recording_trimmed.shape = (int((samples-trim)/timesteps),timesteps,dim)\n    return recording_trimmed"
        }, 
        {
            "execution_count": 43, 
            "cell_type": "code", 
            "metadata": {}, 
            "outputs": [
                {
                    "output_type": "stream", 
                    "name": "stderr", 
                    "text": "WARNING:tensorflow:From /opt/ibm/conda/miniconda36/lib/python3.6/site-packages/tensorflow/python/ops/math_ops.py:3066: to_int32 (from tensorflow.python.ops.math_ops) is deprecated and will be removed in a future version.\nInstructions for updating:\nUse tf.cast instead.\n"
                }, 
                {
                    "output_type": "stream", 
                    "name": "stdout", 
                    "text": "Staring training on 98\nTrain on 4839 samples, validate on 4839 samples\nEpoch 1/5\n4839/4839 [==============================] - 164s 34ms/step - loss: 0.0392 - val_loss: 0.0304\nEpoch 2/5\n4839/4839 [==============================] - 165s 34ms/step - loss: 0.0201 - val_loss: 0.0113\nEpoch 3/5\n4839/4839 [==============================] - 160s 33ms/step - loss: 0.0071 - val_loss: 0.0048\nEpoch 4/5\n4839/4839 [==============================] - 158s 33ms/step - loss: 0.0036 - val_loss: 0.0029\nEpoch 5/5\n4839/4839 [==============================] - 155s 32ms/step - loss: 0.0026 - val_loss: 0.0023\nFinished training on 98 after 841.6278133392334 seconds\nStaring training on 100\nTrain on 4856 samples, validate on 4856 samples\nEpoch 1/5\n4856/4856 [==============================] - 152s 31ms/step - loss: 0.0027 - val_loss: 0.0022\nEpoch 2/5\n4856/4856 [==============================] - 152s 31ms/step - loss: 0.0029 - val_loss: 0.0023\nEpoch 3/5\n4856/4856 [==============================] - 154s 32ms/step - loss: 0.0023 - val_loss: 0.0021\nEpoch 4/5\n4856/4856 [==============================] - 154s 32ms/step - loss: 0.0019 - val_loss: 0.0018\nEpoch 5/5\n4856/4856 [==============================] - 156s 32ms/step - loss: 0.0016 - val_loss: 0.0016\nFinished training on 100 after 1642.222383260727 seconds\nStaring training on 97\nTrain on 2439 samples, validate on 2439 samples\nEpoch 1/5\n2439/2439 [==============================] - 73s 30ms/step - loss: 0.0014 - val_loss: 0.0013\nEpoch 2/5\n2439/2439 [==============================] - 75s 31ms/step - loss: 0.0013 - val_loss: 0.0013\nEpoch 3/5\n2439/2439 [==============================] - 83s 34ms/step - loss: 0.0012 - val_loss: 0.0012\nEpoch 4/5\n2439/2439 [==============================] - 80s 33ms/step - loss: 0.0012 - val_loss: 0.0011\nEpoch 5/5\n2439/2439 [==============================] - 80s 33ms/step - loss: 0.0011 - val_loss: 0.0011\nFinished training on 97 after 2062.7215757369995 seconds\nFinished job on after 2062.7217977046967 seconds\n"
                }
            ], 
            "source": "file_ids = spark.sql('select distinct _c1 from df_healthy').rdd.map(lambda row : row._c1).collect()\nstart = time.time()\nfor file_id in file_ids:\n    recording_trimmed = create_trimmed_recording(df_healthy,file_id)\n    print(\"Staring training on %s\" % (file_id))\n    train(recording_trimmed)\n    print(\"Finished training on %s after %s seconds\" % (file_id,time.time()-start))\n\nprint(\"Finished job on after %s seconds\" % (time.time()-start))\nhealthy_losses = lossHistory.losses"
        }, 
        {
            "execution_count": 44, 
            "cell_type": "code", 
            "metadata": {}, 
            "outputs": [
                {
                    "execution_count": 44, 
                    "metadata": {}, 
                    "data": {
                        "text/plain": "[<matplotlib.lines.Line2D at 0x7f8570d005f8>]"
                    }, 
                    "output_type": "execute_result"
                }, 
                {
                    "output_type": "display_data", 
                    "data": {
                        "image/png": "[encoded data removed]", 
                        "text/plain": "<Figure size 1120x480 with 1 Axes>"
                    }, 
                    "metadata": {}
                }
            ], 
            "source": "fig, ax = plt.subplots(num=None, figsize=(14, 6), dpi=80, facecolor='w', edgecolor='k')\nsize = len(healthy_losses)\nplt.ylim(0,0.008)\nax.plot(range(0,size), healthy_losses, '-', color='blue', animated = True, linewidth=1)"
        }, 
        {
            "execution_count": 45, 
            "cell_type": "code", 
            "metadata": {}, 
            "outputs": [
                {
                    "output_type": "stream", 
                    "name": "stdout", 
                    "text": "Staring training on 105\nTrain on 1212 samples, validate on 1212 samples\nEpoch 1/5\n1212/1212 [==============================] - 40s 33ms/step - loss: 0.0083 - val_loss: 0.0070\nEpoch 2/5\n1212/1212 [==============================] - 37s 30ms/step - loss: 0.0064 - val_loss: 0.0060\nEpoch 3/5\n1212/1212 [==============================] - 38s 32ms/step - loss: 0.0057 - val_loss: 0.0054\nEpoch 4/5\n1212/1212 [==============================] - 35s 29ms/step - loss: 0.0052 - val_loss: 0.0050\nEpoch 5/5\n1212/1212 [==============================] - 43s 35ms/step - loss: 0.0049 - val_loss: 0.0047\nFinished training on 105 after 222.44874596595764 seconds\nFinished job on after 222.44898200035095 seconds\n"
                }
            ], 
            "source": "#file_ids = spark.sql('select distinct _c1 from df_healhty').rdd.map(lambda row : row._c1).collect()\nstart = time.time()\nfor file_id in [105]:\n    recording_trimmed = create_trimmed_recording(df_faulty,file_id)\n    print(\"Staring training on %s\" % (file_id))\n    train(recording_trimmed)\n    print(\"Finished training on %s after %s seconds\" % (file_id,time.time()-start))\n\nprint(\"Finished job on after %s seconds\" % (time.time()-start))\nfaulty_losses = lossHistory.losses"
        }, 
        {
            "execution_count": 47, 
            "cell_type": "code", 
            "metadata": {}, 
            "outputs": [
                {
                    "execution_count": 47, 
                    "metadata": {}, 
                    "data": {
                        "text/plain": "[<matplotlib.lines.Line2D at 0x7f856ba4b240>]"
                    }, 
                    "output_type": "execute_result"
                }, 
                {
                    "output_type": "display_data", 
                    "data": {
                        "image/png": "[encoded data removed]", 
                        "text/plain": "<Figure size 1120x480 with 1 Axes>"
                    }, 
                    "metadata": {}
                }
            ], 
            "source": "fig, ax = plt.subplots(num=None, figsize=(14, 6), dpi=80, facecolor='w', edgecolor='k')\nsize = len(healthy_losses+faulty_losses)\nplt.ylim(0,0.008)\nax.plot(range(0,size), healthy_losses+faulty_losses, '-', color='blue', animated = True, linewidth=1)"
        }, 
        {
            "execution_count": null, 
            "cell_type": "code", 
            "metadata": {}, 
            "outputs": [], 
            "source": ""
        }
    ], 
    "metadata": {
        "kernelspec": {
            "display_name": "Python 3.6 with Spark", 
            "name": "python36", 
            "language": "python3"
        }, 
        "language_info": {
            "mimetype": "text/x-python", 
            "nbconvert_exporter": "python", 
            "version": "3.6.8", 
            "name": "python", 
            "file_extension": ".py", 
            "pygments_lexer": "ipython3", 
            "codemirror_mode": {
                "version": 3, 
                "name": "ipython"
            }
        }
    }, 
    "nbformat": 4
}